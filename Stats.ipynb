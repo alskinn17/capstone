{
 "cells": [
  {
   "cell_type": "code",
   "execution_count": 9,
   "id": "9ab9cf5d",
   "metadata": {},
   "outputs": [],
   "source": [
    "import pandas as pd\n",
    "import csv\n",
    "import json"
   ]
  },
  {
   "cell_type": "code",
   "execution_count": 10,
   "id": "cb9a2eec",
   "metadata": {},
   "outputs": [],
   "source": [
    "defense = pd.read_csv('./team_stats/defense.csv')\n",
    "defense_vs = pd.read_csv('./team_stats/defense_against.csv')\n",
    "\n",
    "gca = pd.read_csv('./team_stats/goal_creation.csv')\n",
    "gca_vs = pd.read_csv('./team_stats/goal_creation_against.csv')\n",
    "\n",
    "passing = pd.read_csv('./team_stats/passing.csv')\n",
    "passing_vs = pd.read_csv('./team_stats/passing_against.csv')\n",
    "\n",
    "shooting = pd.read_csv('./team_stats/shooting.csv')\n",
    "shooting_vs = pd.read_csv('./team_stats/shooting_against.csv')\n",
    "\n",
    "standard = pd.read_csv('./team_stats/standard.csv')\n",
    "standard_vs = pd.read_csv('./team_stats/standard_against.csv')\n",
    "\n",
    "table = pd.read_csv('table.csv', encoding='latin-1')\n",
    "fixtures = pd.read_csv('epl-2022-UTC.csv')"
   ]
  },
  {
   "cell_type": "code",
   "execution_count": 11,
   "id": "42f496a0",
   "metadata": {},
   "outputs": [],
   "source": [
    "standard = standard.drop(['# Pl', 'Age', 'Starts', 'Min', '90s', 'Gls.1', 'Ast.1', 'G+A.1', 'G-PK.1', 'G+A-PK', 'npxG.1', 'npxG+xAG.1'], axis=1)\n",
    "standard = standard.rename(columns = {'xG.1':'xG/90', 'xAG.1':'xAG/90', 'xG+xAG':'xG+xAG /90'})\n",
    "standard_vs = standard_vs.drop(['# Pl', 'Age', 'Starts', 'Min', '90s', 'Gls.1', 'Ast.1', 'G+A.1', 'G-PK.1', 'G+A-PK', 'npxG.1', 'npxG+xAG.1'], axis=1)\n",
    "standard_vs = standard_vs.rename(columns = {'xG.1':'xG/90', 'xAG.1':'xAG/90', 'xG+xAG':'xG+xAG /90'})\n",
    "\n",
    "defense = defense.drop(['# Pl', '90s'], axis=1)\n",
    "defense = defense.rename(columns = {'Tkl.1':'Tkl Drbbl'})\n",
    "defense_vs = defense_vs.drop(['# Pl', '90s'], axis=1)\n",
    "defense_vs = defense_vs.rename(columns = {'Tkl.1':'Tkl Drbbl'})\n",
    "\n",
    "gca = gca.drop(['# Pl', '90s'], axis=1)\n",
    "gca = gca.rename(columns = {'PassLive.1':'PassLive_G', 'PassDead.1':'PassDead_G', 'TO.1':'TO_G', 'Sh.1':'Sh_G', 'Fld.1':'Fld_G', 'Def.1':'Def_G'})\n",
    "gca_vs = gca_vs.drop(['# Pl', '90s'], axis=1)\n",
    "gca_vs = gca_vs.rename(columns = {'PassLive.1':'PassLive_G', 'PassDead.1':'PassDead_G', 'TO.1':'TO_G', 'Sh.1':'Sh_G', 'Fld.1':'Fld_G', 'Def.1':'Def_G'})\n",
    "\n",
    "passing = passing.drop(['# Pl', '90s'], axis=1)\n",
    "passing = passing.rename(columns = {'Cmp.1':'Cmp_short', 'Att.1':'Att_short', 'Cmp%.1':'Cmp%_short', 'Cmp.2':'Cmp_med', 'Att.2':'Att_med', 'Cmp%.2':'Cmp%_med', 'Cmp.3':'Cmp_long', 'Att.3':'Att_long', 'Cmp%.3':'Cmp%_long', '3-Jan':'Pass 1/3'})\n",
    "passing_vs = passing_vs.drop(['# Pl', '90s'], axis=1)\n",
    "passing_vs = passing_vs.rename(columns = {'Cmp.1':'Cmp_short', 'Att.1':'Att_short', 'Cmp%.1':'Cmp%_short', 'Cmp.2':'Cmp_med', 'Att.2':'Att_med', 'Cmp%.2':'Cmp%_med', 'Cmp.3':'Cmp_long', 'Att.3':'Att_long', 'Cmp%.3':'Cmp%_long', '3-Jan':'Pass 1/3'})\n",
    "\n",
    "shooting = shooting.drop(['# Pl', '90s'], axis=1)\n",
    "shooting_vs = shooting_vs.drop(['# Pl', '90s'], axis=1)\n",
    "\n",
    "champions = table.head(4)\n",
    "relegation = table.tail(3)\n",
    "\n",
    "champions = champions.drop(['Attendance', 'Goalkeeper', 'Pts/MP', 'xG', 'xGA', 'xGD', 'xGD/90'], axis=1)\n",
    "relegation = relegation.drop(['Attendance', 'Goalkeeper', 'Pts/MP', 'xG', 'xGA', 'xGD', 'xGD/90'], axis=1)\n",
    "\n",
    "temp_prev = fixtures.loc[fixtures['Round Number'] == 38, ['Home Team', 'Away Team', 'Result']].values\n",
    "prev_week = pd.DataFrame(temp_prev, columns=['Home Team', 'Away Team', 'Result'])\n",
    "\n",
    "temp_next = fixtures.loc[fixtures['Round Number'] == 38, ['Date', 'Home Team', 'Away Team']].values\n",
    "next_week = pd.DataFrame(temp_next, columns=['Date', 'Home Team', 'Away Team'])"
   ]
  },
  {
   "cell_type": "code",
   "execution_count": 12,
   "id": "2651bfbe",
   "metadata": {},
   "outputs": [],
   "source": [
    "standard.to_csv('standard.csv', index=False)\n",
    "standard_vs.to_csv('standard_against.csv', index=False)\n",
    "defense.to_csv('defense.csv', index=False)\n",
    "defense_vs.to_csv('defense_against.csv', index=False)\n",
    "gca.to_csv('goal_creation.csv', index=False)\n",
    "gca_vs.to_csv('goal_creation_against.csv', index=False)\n",
    "passing.to_csv('passing.csv', index=False)\n",
    "passing_vs.to_csv('passing_against.csv', index=False)\n",
    "shooting.to_csv('shooting.csv', index=False)\n",
    "shooting_vs.to_csv('shooting_against.csv', index=False)\n",
    "champions.to_csv('champions.csv', index=False)\n",
    "relegation.to_csv('relegation.csv', index=False)\n",
    "prev_week.to_csv('prev_week.csv', index=False)\n",
    "next_week.to_csv('next_week.csv', index=False)"
   ]
  }
 ],
 "metadata": {
  "kernelspec": {
   "display_name": "Python 3 (ipykernel)",
   "language": "python",
   "name": "python3"
  },
  "language_info": {
   "codemirror_mode": {
    "name": "ipython",
    "version": 3
   },
   "file_extension": ".py",
   "mimetype": "text/x-python",
   "name": "python",
   "nbconvert_exporter": "python",
   "pygments_lexer": "ipython3",
   "version": "3.9.7"
  }
 },
 "nbformat": 4,
 "nbformat_minor": 5
}
