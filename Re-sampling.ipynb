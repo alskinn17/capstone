{
 "cells": [
  {
   "cell_type": "code",
   "execution_count": 19,
   "id": "6dd846d4",
   "metadata": {
    "scrolled": true
   },
   "outputs": [],
   "source": [
    "import pandas as pd\n",
    "from imblearn.over_sampling import RandomOverSampler\n",
    "from imblearn.under_sampling import RandomUnderSampler\n"
   ]
  },
  {
   "cell_type": "code",
   "execution_count": 20,
   "id": "742a1b08",
   "metadata": {},
   "outputs": [],
   "source": [
    "df = pd.read_csv('match_stats.csv')"
   ]
  },
  {
   "cell_type": "code",
   "execution_count": 21,
   "id": "3cc41263",
   "metadata": {},
   "outputs": [],
   "source": [
    "undersampler = RandomUnderSampler(random_state=21)\n",
    "oversampler = RandomOverSampler(random_state=42)"
   ]
  },
  {
   "cell_type": "code",
   "execution_count": 22,
   "id": "8c2cbdb3",
   "metadata": {},
   "outputs": [],
   "source": [
    "x_resampled, y_resampled = undersampler.fit_resample(df.drop('team_1_home_result', axis=1), df['team_1_home_result'])\n",
    "x_resampled2, y_resampled2 = oversampler.fit_resample(df.drop('team_1_home_result', axis=1), df['team_1_home_result'])"
   ]
  },
  {
   "cell_type": "code",
   "execution_count": 23,
   "id": "041888b0",
   "metadata": {},
   "outputs": [],
   "source": [
    "resampled_data = pd.concat([pd.DataFrame(x_resampled), pd.Series(y_resampled, name='team_1_home_result')], axis=1)\n",
    "resampled_data2 = pd.concat([pd.DataFrame(x_resampled2), pd.DataFrame(y_resampled2)], axis=1)\n"
   ]
  },
  {
   "cell_type": "code",
   "execution_count": 24,
   "id": "d399161f",
   "metadata": {},
   "outputs": [],
   "source": [
    "resampled_data.to_csv('undersampled_data.csv', index=False)\n",
    "resampled_data2.to_csv('oversampled_data.csv', index=False)\n"
   ]
  }
 ],
 "metadata": {
  "kernelspec": {
   "display_name": "Python 3 (ipykernel)",
   "language": "python",
   "name": "python3"
  },
  "language_info": {
   "codemirror_mode": {
    "name": "ipython",
    "version": 3
   },
   "file_extension": ".py",
   "mimetype": "text/x-python",
   "name": "python",
   "nbconvert_exporter": "python",
   "pygments_lexer": "ipython3",
   "version": "3.9.7"
  }
 },
 "nbformat": 4,
 "nbformat_minor": 5
}
